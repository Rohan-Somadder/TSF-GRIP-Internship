{
 "cells": [
  {
   "cell_type": "markdown",
   "id": "f46d3723",
   "metadata": {},
   "source": [
    "# **Rohan Somadder**                           \n",
    "\n",
    "## Task 1 - Simple Linear Regression - GRIP, The Sparks Foundation\n",
    " In this task we have to predict the percentage of marks for different students based on the number of hours they have studied. This is a simple linear regression task as it involves only two variables.\n",
    " \n",
    "### **Tool used - Python (Jupyter Notebook)**\n",
    " \n",
    "### For help in  formatting text visit <a href=\"https://www.earthdatascience.org/courses/intro-to-earth-data-science/file-formats/use-text-files/format-text-with-markdown-jupyter-notebook/\" target=\"_blank\">this link</a>."
   ]
  },
  {
   "cell_type": "markdown",
   "id": "826e57f2",
   "metadata": {},
   "source": [
    "***\n",
    "### `Initializing variables and libraries`\n",
    "****"
   ]
  },
  {
   "cell_type": "code",
   "execution_count": 56,
   "id": "4bc2c625",
   "metadata": {},
   "outputs": [],
   "source": [
    "import math\n",
    "import pandas as pd\n",
    "import numpy as np\n",
    "import matplotlib.pyplot as plt\n",
    "%matplotlib inline\n",
    "from sklearn.model_selection import train_test_split\n",
    "from sklearn.metrics import r2_score,mean_squared_error\n",
    "from sklearn.linear_model import LinearRegression       #for using different linear regression related functions\n",
    "import seaborn as sns                                   #for better plotting of regression models"
   ]
  },
  {
   "cell_type": "code",
   "execution_count": 17,
   "id": "b8c64290",
   "metadata": {},
   "outputs": [],
   "source": [
    "#special class defined for output formatting\n",
    "class colour:\n",
    "   RED = '\\033[91m'\n",
    "   BOLD = '\\033[1m'\n",
    "   UNDERLINE = '\\033[4m'\n",
    "   END = '\\033[0m'\n"
   ]
  },
  {
   "cell_type": "code",
   "execution_count": 28,
   "id": "11af9303",
   "metadata": {},
   "outputs": [
    {
     "name": "stdout",
     "output_type": "stream",
     "text": [
      "\u001b[1mData imported succesfully\u001b[0m\n"
     ]
    },
    {
     "data": {
      "text/html": [
       "<div>\n",
       "<style scoped>\n",
       "    .dataframe tbody tr th:only-of-type {\n",
       "        vertical-align: middle;\n",
       "    }\n",
       "\n",
       "    .dataframe tbody tr th {\n",
       "        vertical-align: top;\n",
       "    }\n",
       "\n",
       "    .dataframe thead th {\n",
       "        text-align: right;\n",
       "    }\n",
       "</style>\n",
       "<table border=\"1\" class=\"dataframe\">\n",
       "  <thead>\n",
       "    <tr style=\"text-align: right;\">\n",
       "      <th></th>\n",
       "      <th>Hours</th>\n",
       "      <th>Scores</th>\n",
       "    </tr>\n",
       "  </thead>\n",
       "  <tbody>\n",
       "    <tr>\n",
       "      <th>0</th>\n",
       "      <td>2.5</td>\n",
       "      <td>21</td>\n",
       "    </tr>\n",
       "    <tr>\n",
       "      <th>1</th>\n",
       "      <td>5.1</td>\n",
       "      <td>47</td>\n",
       "    </tr>\n",
       "    <tr>\n",
       "      <th>2</th>\n",
       "      <td>3.2</td>\n",
       "      <td>27</td>\n",
       "    </tr>\n",
       "    <tr>\n",
       "      <th>3</th>\n",
       "      <td>8.5</td>\n",
       "      <td>75</td>\n",
       "    </tr>\n",
       "    <tr>\n",
       "      <th>4</th>\n",
       "      <td>3.5</td>\n",
       "      <td>30</td>\n",
       "    </tr>\n",
       "    <tr>\n",
       "      <th>5</th>\n",
       "      <td>1.5</td>\n",
       "      <td>20</td>\n",
       "    </tr>\n",
       "    <tr>\n",
       "      <th>6</th>\n",
       "      <td>9.2</td>\n",
       "      <td>88</td>\n",
       "    </tr>\n",
       "    <tr>\n",
       "      <th>7</th>\n",
       "      <td>5.5</td>\n",
       "      <td>60</td>\n",
       "    </tr>\n",
       "    <tr>\n",
       "      <th>8</th>\n",
       "      <td>8.3</td>\n",
       "      <td>81</td>\n",
       "    </tr>\n",
       "    <tr>\n",
       "      <th>9</th>\n",
       "      <td>2.7</td>\n",
       "      <td>25</td>\n",
       "    </tr>\n",
       "    <tr>\n",
       "      <th>10</th>\n",
       "      <td>7.7</td>\n",
       "      <td>85</td>\n",
       "    </tr>\n",
       "    <tr>\n",
       "      <th>11</th>\n",
       "      <td>5.9</td>\n",
       "      <td>62</td>\n",
       "    </tr>\n",
       "    <tr>\n",
       "      <th>12</th>\n",
       "      <td>4.5</td>\n",
       "      <td>41</td>\n",
       "    </tr>\n",
       "    <tr>\n",
       "      <th>13</th>\n",
       "      <td>3.3</td>\n",
       "      <td>42</td>\n",
       "    </tr>\n",
       "    <tr>\n",
       "      <th>14</th>\n",
       "      <td>1.1</td>\n",
       "      <td>17</td>\n",
       "    </tr>\n",
       "    <tr>\n",
       "      <th>15</th>\n",
       "      <td>8.9</td>\n",
       "      <td>95</td>\n",
       "    </tr>\n",
       "    <tr>\n",
       "      <th>16</th>\n",
       "      <td>2.5</td>\n",
       "      <td>30</td>\n",
       "    </tr>\n",
       "    <tr>\n",
       "      <th>17</th>\n",
       "      <td>1.9</td>\n",
       "      <td>24</td>\n",
       "    </tr>\n",
       "    <tr>\n",
       "      <th>18</th>\n",
       "      <td>6.1</td>\n",
       "      <td>67</td>\n",
       "    </tr>\n",
       "    <tr>\n",
       "      <th>19</th>\n",
       "      <td>7.4</td>\n",
       "      <td>69</td>\n",
       "    </tr>\n",
       "    <tr>\n",
       "      <th>20</th>\n",
       "      <td>2.7</td>\n",
       "      <td>30</td>\n",
       "    </tr>\n",
       "    <tr>\n",
       "      <th>21</th>\n",
       "      <td>4.8</td>\n",
       "      <td>54</td>\n",
       "    </tr>\n",
       "    <tr>\n",
       "      <th>22</th>\n",
       "      <td>3.8</td>\n",
       "      <td>35</td>\n",
       "    </tr>\n",
       "    <tr>\n",
       "      <th>23</th>\n",
       "      <td>6.9</td>\n",
       "      <td>76</td>\n",
       "    </tr>\n",
       "    <tr>\n",
       "      <th>24</th>\n",
       "      <td>7.8</td>\n",
       "      <td>86</td>\n",
       "    </tr>\n",
       "  </tbody>\n",
       "</table>\n",
       "</div>"
      ],
      "text/plain": [
       "    Hours  Scores\n",
       "0     2.5      21\n",
       "1     5.1      47\n",
       "2     3.2      27\n",
       "3     8.5      75\n",
       "4     3.5      30\n",
       "5     1.5      20\n",
       "6     9.2      88\n",
       "7     5.5      60\n",
       "8     8.3      81\n",
       "9     2.7      25\n",
       "10    7.7      85\n",
       "11    5.9      62\n",
       "12    4.5      41\n",
       "13    3.3      42\n",
       "14    1.1      17\n",
       "15    8.9      95\n",
       "16    2.5      30\n",
       "17    1.9      24\n",
       "18    6.1      67\n",
       "19    7.4      69\n",
       "20    2.7      30\n",
       "21    4.8      54\n",
       "22    3.8      35\n",
       "23    6.9      76\n",
       "24    7.8      86"
      ]
     },
     "metadata": {},
     "output_type": "display_data"
    }
   ],
   "source": [
    "#importing data from csv as link\n",
    "try:                                  # Using try-except in case of error  \n",
    "    link = \"http://bit.ly/w-data\"\n",
    "    data=pd.read_csv(link)\n",
    "    print(colour.BOLD + \"Data imported succesfully\" + colour.END)\n",
    "    display(data)\n",
    "except:\n",
    "    print(colour.RED + \"Failed\" + colour.END)"
   ]
  },
  {
   "cell_type": "code",
   "execution_count": 229,
   "id": "9f8b35b7",
   "metadata": {
    "scrolled": true
   },
   "outputs": [
    {
     "data": {
      "text/plain": [
       "Hours     0\n",
       "Scores    0\n",
       "dtype: int64"
      ]
     },
     "execution_count": 229,
     "metadata": {},
     "output_type": "execute_result"
    }
   ],
   "source": [
    "#checking for NaN values\n",
    "score_sample = data\n",
    "score_sample.isna().sum()"
   ]
  },
  {
   "cell_type": "code",
   "execution_count": 228,
   "id": "070bc771",
   "metadata": {
    "scrolled": true
   },
   "outputs": [
    {
     "data": {
      "text/html": [
       "<div>\n",
       "<style scoped>\n",
       "    .dataframe tbody tr th:only-of-type {\n",
       "        vertical-align: middle;\n",
       "    }\n",
       "\n",
       "    .dataframe tbody tr th {\n",
       "        vertical-align: top;\n",
       "    }\n",
       "\n",
       "    .dataframe thead th {\n",
       "        text-align: right;\n",
       "    }\n",
       "</style>\n",
       "<table border=\"1\" class=\"dataframe\">\n",
       "  <thead>\n",
       "    <tr style=\"text-align: right;\">\n",
       "      <th></th>\n",
       "      <th>Hours</th>\n",
       "      <th>Scores</th>\n",
       "    </tr>\n",
       "  </thead>\n",
       "  <tbody>\n",
       "  </tbody>\n",
       "</table>\n",
       "</div>"
      ],
      "text/plain": [
       "Empty DataFrame\n",
       "Columns: [Hours, Scores]\n",
       "Index: []"
      ]
     },
     "execution_count": 228,
     "metadata": {},
     "output_type": "execute_result"
    }
   ],
   "source": [
    "#checking for wrong values \n",
    "score_sample.query('Scores > 100') \n",
    "score_sample.query('Scores < 0')\n",
    " "
   ]
  },
  {
   "cell_type": "markdown",
   "id": "b233c7d7",
   "metadata": {},
   "source": [
    "Data is consistent as no wrong data is found"
   ]
  },
  {
   "cell_type": "code",
   "execution_count": 227,
   "id": "048d42bd",
   "metadata": {},
   "outputs": [
    {
     "data": {
      "image/png": "[encoded data removed]",
      "text/plain": [
       "<Figure size 432x288 with 1 Axes>"
      ]
     },
     "metadata": {
      "needs_background": "light"
     },
     "output_type": "display_data"
    }
   ],
   "source": [
    "# Plotting the distribution of scores\n",
    "\n",
    "score_sample.plot(x='Hours', y='Scores', style='o')  \n",
    "plt.title('Hours vs Percentage')  \n",
    "plt.xlabel('Hours Studied')  \n",
    "plt.ylabel('Percentage Score')  \n",
    "plt.show()"
   ]
  },
  {
   "cell_type": "markdown",
   "id": "6abf589d",
   "metadata": {},
   "source": [
    "***\n",
    "### `Prepairing the Data and Training the Algorithm`\n",
    "***"
   ]
  },
  {
   "cell_type": "code",
   "execution_count": 220,
   "id": "5cf6a715",
   "metadata": {},
   "outputs": [],
   "source": [
    "# prepairing inputs\n",
    "X=score_sample.iloc[:, :-1].values \n",
    "Y=score_sample.iloc[:, 1].values\n",
    "\n",
    "# Splitting the data into training and test data\n",
    "X_train,X_test,Y_train,Y_test=train_test_split(X,Y,test_size=0.18,random_state=0)"
   ]
  },
  {
   "cell_type": "code",
   "execution_count": 221,
   "id": "8fc3cf43",
   "metadata": {},
   "outputs": [
    {
     "name": "stdout",
     "output_type": "stream",
     "text": [
      "\u001b[1mR^2 Score : 0.9454906892105354\u001b[0m\n"
     ]
    }
   ],
   "source": [
    "# Training the data \n",
    "LReg = LinearRegression() \n",
    "model = LReg.fit(X_train,Y_train)\n",
    "predicted = LReg.predict(X_test)\n",
    "\n",
    "# R^2 (coefficient of determination) regression score function\n",
    "score =r2_score(Y_test,predicted)\n",
    "print(colour.BOLD + \"R^2 Score : {}\".format(score) + colour.END)"
   ]
  },
  {
   "cell_type": "markdown",
   "id": "49db6aee",
   "metadata": {},
   "source": [
    "### Plotting the Regression plot"
   ]
  },
  {
   "cell_type": "code",
   "execution_count": 226,
   "id": "a059cd68",
   "metadata": {},
   "outputs": [
    {
     "data": {
      "text/plain": [
       "<seaborn.axisgrid.FacetGrid at 0x19356d62fa0>"
      ]
     },
     "execution_count": 226,
     "metadata": {},
     "output_type": "execute_result"
    },
    {
     "data": {
      "image/png": "[encoded data removed]",
      "text/plain": [
       "<Figure size 360x360 with 1 Axes>"
      ]
     },
     "metadata": {
      "needs_background": "light"
     },
     "output_type": "display_data"
    }
   ],
   "source": [
    "sns.lmplot(x='Hours',y='Scores',data=score_sample)"
   ]
  },
  {
   "cell_type": "code",
   "execution_count": 225,
   "id": "9219d7ff",
   "metadata": {},
   "outputs": [
    {
     "data": {
      "text/html": [
       "<div>\n",
       "<style scoped>\n",
       "    .dataframe tbody tr th:only-of-type {\n",
       "        vertical-align: middle;\n",
       "    }\n",
       "\n",
       "    .dataframe tbody tr th {\n",
       "        vertical-align: top;\n",
       "    }\n",
       "\n",
       "    .dataframe thead th {\n",
       "        text-align: right;\n",
       "    }\n",
       "</style>\n",
       "<table border=\"1\" class=\"dataframe\">\n",
       "  <thead>\n",
       "    <tr style=\"text-align: right;\">\n",
       "      <th></th>\n",
       "      <th>Actual</th>\n",
       "      <th>Predictions</th>\n",
       "    </tr>\n",
       "  </thead>\n",
       "  <tbody>\n",
       "    <tr>\n",
       "      <th>0</th>\n",
       "      <td>20</td>\n",
       "      <td>16.884145</td>\n",
       "    </tr>\n",
       "    <tr>\n",
       "      <th>1</th>\n",
       "      <td>27</td>\n",
       "      <td>33.732261</td>\n",
       "    </tr>\n",
       "    <tr>\n",
       "      <th>2</th>\n",
       "      <td>69</td>\n",
       "      <td>75.357018</td>\n",
       "    </tr>\n",
       "    <tr>\n",
       "      <th>3</th>\n",
       "      <td>30</td>\n",
       "      <td>26.794801</td>\n",
       "    </tr>\n",
       "    <tr>\n",
       "      <th>4</th>\n",
       "      <td>62</td>\n",
       "      <td>60.491033</td>\n",
       "    </tr>\n",
       "  </tbody>\n",
       "</table>\n",
       "</div>"
      ],
      "text/plain": [
       "   Actual  Predictions\n",
       "0      20    16.884145\n",
       "1      27    33.732261\n",
       "2      69    75.357018\n",
       "3      30    26.794801\n",
       "4      62    60.491033"
      ]
     },
     "execution_count": 225,
     "metadata": {},
     "output_type": "execute_result"
    }
   ],
   "source": [
    "df1 = pd.DataFrame(Y_test).rename(columns={0:'Actual'})\n",
    "df2 = pd.DataFrame(predicted).rename(columns={0:'Predictions'})\n",
    "Result = pd.concat([df1,df2],axis=1,join='inner')\n",
    "\n",
    "Result"
   ]
  },
  {
   "cell_type": "markdown",
   "id": "8a02ff17",
   "metadata": {},
   "source": [
    "***\n",
    "### `Evaluation of Model`\n",
    "***"
   ]
  },
  {
   "cell_type": "code",
   "execution_count": 223,
   "id": "5ae153d9",
   "metadata": {
    "scrolled": true
   },
   "outputs": [
    {
     "name": "stdout",
     "output_type": "stream",
     "text": [
      "\u001b[1mNo of Hours = 9.25\u001b[0m\n",
      "\u001b[1mPredicted Score = 93.69173248737539\u001b[0m\n"
     ]
    }
   ],
   "source": [
    "#now predicting for the given amount of hours\n",
    "#hours = []\n",
    "hours = 9.25\n",
    "own_pred = LReg.predict([[hours]])\n",
    "print(colour.BOLD + \"No of Hours = {}\".format(hours) + colour.END)\n",
    "print(colour.BOLD + \"Predicted Score = {}\".format(own_pred[0]) + colour.END)"
   ]
  },
  {
   "cell_type": "code",
   "execution_count": 222,
   "id": "71b05e43",
   "metadata": {},
   "outputs": [
    {
     "name": "stdout",
     "output_type": "stream",
     "text": [
      "\u001b[1mMean Absolute Error = 4.183859899002982\u001b[0m\n",
      "\u001b[1mMean Squared Error = 21.598769307217456\u001b[0m\n",
      "\u001b[1mRoot Mean Squared Error = 4.647447612100373\u001b[0m\n"
     ]
    }
   ],
   "source": [
    "print(colour.BOLD + 'Mean Absolute Error = {}'.format(metrics.mean_absolute_error(Y_test, predicted)) + colour.END)\n",
    "print(colour.BOLD + 'Mean Squared Error = {}'.format(metrics.mean_squared_error(Y_test, predicted)) + colour.END)\n",
    "print(colour.BOLD + 'Root Mean Squared Error = {}'.format(np.sqrt(metrics.mean_squared_error(Y_test,predicted))) + colour.END)"
   ]
  }
 ],
 "metadata": {
  "kernelspec": {
   "display_name": "Python 3",
   "language": "python",
   "name": "python3"
  },
  "language_info": {
   "codemirror_mode": {
    "name": "ipython",
    "version": 3
   },
   "file_extension": ".py",
   "mimetype": "text/x-python",
   "name": "python",
   "nbconvert_exporter": "python",
   "pygments_lexer": "ipython3",
   "version": "3.8.8"
  }
 },
 "nbformat": 4,
 "nbformat_minor": 5
}
